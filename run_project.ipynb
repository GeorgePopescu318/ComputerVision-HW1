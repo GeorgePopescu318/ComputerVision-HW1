{
 "cells": [
  {
   "cell_type": "code",
   "execution_count": 21,
   "metadata": {},
   "outputs": [],
   "source": [
    "import cv2 as cv\n",
    "import sys\n",
    "import numpy as np\n",
    "import matplotlib.pyplot as plt\n",
    "import os"
   ]
  },
  {
   "cell_type": "code",
   "execution_count": 22,
   "metadata": {},
   "outputs": [],
   "source": [
    "img_path =  \"C:/Programs/facultate/CAVA/CAVA-2024-Tema1/antrenare/1_01.jpg\"\n",
    "# img_path =  \"C:/Programs/facultate/CAVA/CAVA-2024-Tema1/imagini_auxiliare/02.jpg\"\n",
    "img1 = cv.imread(img_path)\n",
    "img_path =  \"C:/Programs/facultate/CAVA/CAVA-2024-Tema1/antrenare/1_02.jpg\"\n",
    "img2 = cv.imread(img_path)"
   ]
  },
  {
   "cell_type": "markdown",
   "metadata": {},
   "source": [
    "### Use hsv colors to diferentiate the board from the rest of the background and get a mask"
   ]
  },
  {
   "cell_type": "code",
   "execution_count": 23,
   "metadata": {},
   "outputs": [],
   "source": [
    "def crop_image_hsv(img):\n",
    "    # img = cv.imread(img_path)\n",
    "    # img=cv.resize(img,(0,0),fx=0.20,fy=0.20)\n",
    "    # low_yellow = (14, 0, 0)\n",
    "    # high_yellow = (255, 255, 255)\n",
    "    # low_yellow = (0, 0, 0)\n",
    "    # high_yellow = (14, 255, 255)\n",
    "    low_yellow = (0, 110, 0)\n",
    "    high_yellow = (255, 255, 255)\n",
    "    img_hsv = cv.cvtColor(img, cv.COLOR_BGR2HSV)\n",
    "    mask_yellow_hsv = cv.inRange(img_hsv, low_yellow, high_yellow)\n",
    "\n",
    "    kernel = np.ones((3,3),np.uint8)\n",
    "    mask_yellow_hsv = cv.morphologyEx(mask_yellow_hsv, cv.MORPH_OPEN, kernel)\n",
    "    # cv.imshow(\"graay\",mask_yellow_hsv)\n",
    "    # image_bi_blur = cv.bilateralFilter(img, 15, 75, 75) \n",
    "    # gray = cv.cvtColor(image_bi_blur,cv.COLOR_BGR2GRAY)\n",
    "    # print(mask_yellow_hsv.shape)\n",
    "    # print(gray.shape)\n",
    "    # mask_yellow_hsv = cv.bitwise_not(mask_yellow_hsv)\n",
    "    # pre = cv.bitwise_and(gray,gray,mask=mask_yellow_hsv)\n",
    "    # crop_img=cv.resize(crop_img,(0,0),fx=0.20,fy=0.20)\n",
    "    # crop_img = extrage_careu(crop_img)\n",
    "    # crop_img = cv.cvtColor(crop_img,cv.COLOR_BAYER_BG2GRAY)\n",
    "    return mask_yellow_hsv"
   ]
  },
  {
   "cell_type": "markdown",
   "metadata": {},
   "source": [
    "### Using the mask from the above function return only the board"
   ]
  },
  {
   "cell_type": "code",
   "execution_count": 24,
   "metadata": {},
   "outputs": [],
   "source": [
    "def extrage_careu(original_img, cropped_mask_img):\n",
    "    # image = cv.cvtColor(image,cv.COLOR_BGR2GRAY)\n",
    "    # image_m_blur = cv.medianBlur(image,3)\n",
    "    # image_g_blur = cv.GaussianBlur(image_m_blur, (0, 0), 5) \n",
    "    # image_sharpened = cv.addWeighted(image_m_blur, 1.2, image_g_blur, -0.8, 0)\n",
    "    # #show_image('image_sharpened',image_sharpened)\n",
    "    # _, thresh = cv.threshold(image_sharpened, 30, 255, cv.THRESH_BINARY)\n",
    "\n",
    "    kernel = np.ones((3, 3), np.uint8)\n",
    "    thresh = cv.erode(cropped_mask_img, kernel)\n",
    "    #show_image('image_thresholded',thresh)\n",
    "\n",
    "    edges =  cv.Canny(thresh ,50,400)\n",
    "    cv.imshow(\"canny\",edges)\n",
    "    contours, _ = cv.findContours(edges,  cv.RETR_EXTERNAL, cv.CHAIN_APPROX_SIMPLE)\n",
    "    max_area = 0\n",
    "   \n",
    "    for i in range(len(contours)):\n",
    "        if(len(contours[i]) >3):\n",
    "            possible_top_left = None\n",
    "            possible_bottom_right = None\n",
    "            for point in contours[i].squeeze():\n",
    "                if possible_top_left is None or point[0] + point[1] < possible_top_left[0] + possible_top_left[1]:\n",
    "                    possible_top_left = point\n",
    "\n",
    "                if possible_bottom_right is None or point[0] + point[1] > possible_bottom_right[0] + possible_bottom_right[1] :\n",
    "                    possible_bottom_right = point\n",
    "\n",
    "            diff = np.diff(contours[i].squeeze(), axis = 1)\n",
    "            possible_top_right = contours[i].squeeze()[np.argmin(diff)]\n",
    "            possible_bottom_left = contours[i].squeeze()[np.argmax(diff)]\n",
    "            if cv.contourArea(np.array([[possible_top_left],[possible_top_right],[possible_bottom_right],[possible_bottom_left]])) > max_area:\n",
    "                max_area = cv.contourArea(np.array([[possible_top_left],[possible_top_right],[possible_bottom_right],[possible_bottom_left]]))\n",
    "                top_left = possible_top_left\n",
    "                bottom_right = possible_bottom_right\n",
    "                top_right = possible_top_right\n",
    "                bottom_left = possible_bottom_left\n",
    "\n",
    "    width = 504\n",
    "    height = 504\n",
    "    \n",
    "    # image_copy = cv.cvtColor(original_img.copy(),cv.COLOR_GRAY2BGR)\n",
    "    image_copy = original_img.copy()\n",
    "    cv.circle(image_copy,tuple(top_left),20,(0,0,255),1)\n",
    "    cv.circle(image_copy,tuple(top_right),20,(0,0,255),1)\n",
    "    cv.circle(image_copy,tuple(bottom_left),20,(0,0,255),1)\n",
    "    cv.circle(image_copy,tuple(bottom_right),20,(0,0,255),1)\n",
    "    # cv.imshow(\"detected corners\",image_copy)\n",
    "\n",
    "    puzzle = np.array([top_left,top_right,bottom_right,bottom_left], dtype = \"float32\")\n",
    "    destination_of_puzzle = np.array([[0,0],[width,0],[width,height],[0,height]], dtype = \"float32\")\n",
    "\n",
    "    M = cv.getPerspectiveTransform(puzzle,destination_of_puzzle)\n",
    "\n",
    "    result = cv.warpPerspective(original_img, M, (width, height))\n",
    "    # result = cv.cvtColor(result,cv.COLOR_GRAY2BGR)\n",
    "    \n",
    "    return result"
   ]
  },
  {
   "cell_type": "code",
   "execution_count": null,
   "metadata": {},
   "outputs": [],
   "source": [
    "def preprocess(img):\n",
    "    gray = cv.cvtColor(img,cv.COLOR_BGR2GRAY)\n",
    "\n",
    "    image_bi_blur = cv.bilateralFilter(gray, 15, 75, 75)\n",
    "\n",
    "    # threshAdap = cv.adaptiveThreshold(gray, 255,cv.ADAPTIVE_THRESH_GAUSSIAN_C, cv.THRESH_BINARY_INV, 5, 2)\n",
    "    T, threshOtsu = cv.threshold(image_bi_blur, 0, 255, cv.THRESH_BINARY | cv.THRESH_OTSU)\n",
    "    # _, threshClassis1 = cv.threshold(crop_img1, 99, 255, cv.THRESH_BINARY_INV)\n",
    "    # _, threshClassis1 = cv.threshold(gray, 95, 255, cv.THRESH_BINARY)\n",
    "    \n",
    "    return threshOtsu"
   ]
  },
  {
   "cell_type": "code",
   "execution_count": null,
   "metadata": {},
   "outputs": [],
   "source": [
    "img1_r=cv.resize(img1,(0,0),fx=0.20,fy=0.20)\n",
    "img2_r=cv.resize(img2,(0,0),fx=0.20,fy=0.20)\n",
    "\n",
    "crop_img1 = crop_image_hsv(img1_r)\n",
    "# cv.imshow(\"crop_img1\",crop_img1)\n",
    "\n",
    "careu_img1 = extrage_careu(original_img=img1_r,cropped_mask_img=crop_img1)\n",
    "# cv.imshow(\"careu_img\",careu_img1)\n",
    "\n",
    "preproc_careu1 = preprocess(careu_img1)\n",
    "# cv.imshow(\"preproc_careu1\",preproc_careu1)\n",
    "\n",
    "crop_img2 = crop_image_hsv(img2_r)\n",
    "# cv.imshow(\"crop_img2\",crop_img2)\n",
    "careu_img2 = extrage_careu(original_img=img2_r,cropped_mask_img=crop_img2)\n",
    "preproc_careu2 = preprocess(careu_img2)\n",
    "# cv.imshow(\"careu_img\",careu_img2)\n",
    "cv.imshow(\"preproc_careu2\",preproc_careu2)\n",
    "# pre2 = preprocess(img2_r)\n",
    "# crop_img2 = extrage_careu(original_img=img2_r,cropped_mask_img=pre2)\n",
    "# cv.imshow(\"a\",crop_img)\n",
    "# # threshAdap = cv.adaptiveThreshold(crop_img, 255,cv.ADAPTIVE_THRESH_GAUSSIAN_C, cv.THRESH_BINARY_INV, 5, 2)\n",
    "# # T, threshOtsu = cv.threshold(crop_img, 0, 255, cv.THRESH_BINARY | cv.THRESH_OTSU)\n",
    "# _, threshClassis1 = cv.threshold(crop_img1, 99, 255, cv.THRESH_BINARY_INV)\n",
    "# _, threshClassis2 = cv.threshold(crop_img2, 99, 255, cv.THRESH_BINARY_INV)\n",
    "kernel = np.ones((3,3),np.uint8)\n",
    "# kernel = np.ones((4,4),np.uint8)\n",
    "result = preproc_careu2 - preproc_careu1\n",
    "result = cv.morphologyEx(result, cv.MORPH_OPEN, kernel)\n",
    "# # cv.imshow(\"threshClassis\",threshClassis)\n",
    "# crop_img = extrage_careu(threshClassis)\n",
    "# # cv.imshow(\"crop_img\",crop_img)\n",
    "cv.imshow(\"result\",result)\n",
    "# cv.imshow(\"2\",threshClassis2)\n",
    "# cv.imshow(\"threshAdap\",a)\n",
    "cv.waitKey(0)\n",
    "cv.destroyAllWindows()"
   ]
  }
 ],
 "metadata": {
  "kernelspec": {
   "display_name": "CAVA",
   "language": "python",
   "name": "python3"
  },
  "language_info": {
   "codemirror_mode": {
    "name": "ipython",
    "version": 3
   },
   "file_extension": ".py",
   "mimetype": "text/x-python",
   "name": "python",
   "nbconvert_exporter": "python",
   "pygments_lexer": "ipython3",
   "version": "3.12.6"
  }
 },
 "nbformat": 4,
 "nbformat_minor": 2
}
