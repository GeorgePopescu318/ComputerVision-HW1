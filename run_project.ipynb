{
 "cells": [
  {
   "cell_type": "code",
   "execution_count": 323,
   "metadata": {},
   "outputs": [],
   "source": [
    "import cv2 as cv\n",
    "import sys\n",
    "import numpy as np\n",
    "import matplotlib.pyplot as plt\n",
    "import os\n",
    "from pathlib import Path"
   ]
  },
  {
   "cell_type": "markdown",
   "metadata": {},
   "source": [
    "### PATHS"
   ]
  },
  {
   "cell_type": "code",
   "execution_count": 324,
   "metadata": {},
   "outputs": [],
   "source": [
    "\n",
    "TRAINING_PATH = '../antrenare/'\n",
    "\n",
    "TEMPLATES_PATH = '../templates/'\n",
    "\n",
    "SOLUTION_PATH = '../solutions_fake_test/'\n",
    "\n",
    "TEST_PATH = 'C:/Programs/facultate/CAVA/CAVA-2024-Tema1/evaluare/fake_test/'\n",
    "\n",
    "FIRST_BOARD = cv.imread(\"../imagini_auxiliare/01.jpg\")"
   ]
  },
  {
   "cell_type": "markdown",
   "metadata": {},
   "source": [
    "### CONSTANTS"
   ]
  },
  {
   "cell_type": "code",
   "execution_count": 325,
   "metadata": {},
   "outputs": [],
   "source": [
    "\n",
    "\n",
    "ALL_DIGITS = [0,1,2,3,4,5,6,7,8,9,10,11,12,13,14,15,16,17,18,19,20,21,24,25,27,28,30,32,35,36,40,42,45,48,49,50,54,56,60,63,64,70,72,80,81,90]\n",
    "\n",
    "DIGIT_DICT = {digit: 7 if digit > 0 and digit < 11 else 1 for digit in ALL_DIGITS}\n",
    "\n",
    "BASE_MATRIX = np.ones((14,14),dtype=np.int16)\n",
    "BASE_MATRIX = BASE_MATRIX *-1\n",
    "BASE_MATRIX[6,6] = 1\n",
    "BASE_MATRIX[6,7] = 2\n",
    "BASE_MATRIX[7,6] = 3\n",
    "BASE_MATRIX[7,7] = 4\n",
    "\n",
    "SPECIAL_TILE_DICT = {'x3':[(0,0),(0,6),(0,7),(0,13),(6,0),(7,0),(6,13),(7,13),(13,0),(13,6),(13,7),(13,13)],\n",
    "                     'x2':[(1,1),(2,2),(3,3),(4,4),(12,12),(11,11),(10,10),(9,9),(12,1),(11,2),(10,3),(9,4),(1,12),(2,11),(3,10),(4,9)],\n",
    "                     '+':[(3,6),(4,7),(6,4),(7,3),(9,6),(10,7),(7,9),(6,10)],\n",
    "                     '-':[(2,5),(2,8),(5,2),(5,11),(8,2),(8,11),(11,5),(11,8)],\n",
    "                     'x':[(3,7),(4,6),(6,3),(4,7),(6,9),(7,10),(9,7),(10,6)],\n",
    "                     '/':[(1,4),(1,9),(4,1),(4,12),(9,1),(9,12),(12,4),(12,9)]\n",
    "                     }"
   ]
  },
  {
   "cell_type": "code",
   "execution_count": 326,
   "metadata": {},
   "outputs": [],
   "source": [
    "def show_img(img,title):\n",
    "    if img.shape[0] > 1000:\n",
    "        img=cv.resize(img,(0,0),fx=0.20,fy=0.20)\n",
    "    cv.imshow(title,img)\n",
    "    cv.waitKey(0)\n",
    "    cv.destroyAllWindows()"
   ]
  },
  {
   "cell_type": "markdown",
   "metadata": {},
   "source": [
    "### Use hsv colors to diferentiate the board from the rest of the background and get a mask"
   ]
  },
  {
   "cell_type": "code",
   "execution_count": 327,
   "metadata": {},
   "outputs": [],
   "source": [
    "def crop_image_hsv(img):\n",
    "    low_yellow = (17, 0, 0)\n",
    "    high_yellow = (116, 255, 255)\n",
    "\n",
    "    img_hsv = cv.cvtColor(img, cv.COLOR_BGR2HSV)\n",
    "    \n",
    "    mask_yellow_hsv = cv.inRange(img_hsv, low_yellow, high_yellow)\n",
    "\n",
    "    return mask_yellow_hsv"
   ]
  },
  {
   "cell_type": "markdown",
   "metadata": {},
   "source": [
    "### Using the mask from the above function return only the board"
   ]
  },
  {
   "cell_type": "code",
   "execution_count": 328,
   "metadata": {},
   "outputs": [],
   "source": [
    "def extrage_careu(original_img, cropped_mask_img):\n",
    "    kernel = np.ones((3, 4), np.uint8)\n",
    "    cropped_mask_img = cv.erode(cropped_mask_img, kernel)\n",
    "\n",
    "    edges =  cv.Canny(cropped_mask_img,20,400)\n",
    "\n",
    "    contours, _ = cv.findContours(edges,  cv.RETR_EXTERNAL, cv.CHAIN_APPROX_SIMPLE)\n",
    "    max_area = 0\n",
    "   \n",
    "    for i in range(len(contours)):\n",
    "        if(len(contours[i]) >3):\n",
    "            possible_top_left = None\n",
    "            possible_bottom_right = None\n",
    "            for point in contours[i].squeeze():\n",
    "                if possible_top_left is None or point[0] + point[1] < possible_top_left[0] + possible_top_left[1]:\n",
    "                    possible_top_left = point\n",
    "\n",
    "                if possible_bottom_right is None or point[0] + point[1] > possible_bottom_right[0] + possible_bottom_right[1] :\n",
    "                    possible_bottom_right = point\n",
    "\n",
    "            diff = np.diff(contours[i].squeeze(), axis = 1)\n",
    "            possible_top_right = contours[i].squeeze()[np.argmin(diff)]\n",
    "            possible_bottom_left = contours[i].squeeze()[np.argmax(diff)]\n",
    "            if cv.contourArea(np.array([[possible_top_left],[possible_top_right],[possible_bottom_right],[possible_bottom_left]])) > max_area:\n",
    "                max_area = cv.contourArea(np.array([[possible_top_left],[possible_top_right],[possible_bottom_right],[possible_bottom_left]]))\n",
    "                top_left = possible_top_left\n",
    "                bottom_right = possible_bottom_right\n",
    "                top_right = possible_top_right\n",
    "                bottom_left = possible_bottom_left\n",
    "\n",
    "    width = 2800\n",
    "    height = 2800\n",
    "    \n",
    "    image_copy = original_img.copy()\n",
    "    cv.circle(image_copy,tuple(top_left),20,(0,0,255),1)\n",
    "    cv.circle(image_copy,tuple(top_right),20,(0,0,255),1)\n",
    "    cv.circle(image_copy,tuple(bottom_left),20,(0,0,255),1)\n",
    "    cv.circle(image_copy,tuple(bottom_right),20,(0,0,255),1)\n",
    "    # show_img(image_copy,\"A\")\n",
    "\n",
    "    puzzle = np.array([top_left,top_right,bottom_right,bottom_left], dtype = \"float32\")\n",
    "    destination_of_puzzle = np.array([[0,0],[width,0],[width,height],[0,height]], dtype = \"float32\")\n",
    "\n",
    "    M = cv.getPerspectiveTransform(puzzle,destination_of_puzzle)\n",
    "\n",
    "    result = cv.warpPerspective(original_img, M, (width, height))\n",
    "    \n",
    "    return result"
   ]
  },
  {
   "cell_type": "markdown",
   "metadata": {},
   "source": [
    "### Get the difference between the 2 imgs"
   ]
  },
  {
   "cell_type": "code",
   "execution_count": 329,
   "metadata": {},
   "outputs": [],
   "source": [
    "def get_boards_difference(resized_img1,resized_img2):\n",
    "    crop_img1 = crop_image_hsv(resized_img1)\n",
    "    careu_img1 = extrage_careu(original_img=resized_img1,cropped_mask_img=crop_img1)\n",
    "\n",
    "    crop_img2 = crop_image_hsv(resized_img2)\n",
    "    careu_img2 = extrage_careu(original_img=resized_img2,cropped_mask_img=crop_img2)\n",
    "    \n",
    "    result = cv.absdiff(careu_img2,careu_img1)\n",
    "\n",
    "    return crop_img1,careu_img1,crop_img2,careu_img2,result\n",
    "        "
   ]
  },
  {
   "cell_type": "markdown",
   "metadata": {},
   "source": [
    "### Generate the lines that delimitate the squares in the cropped picture"
   ]
  },
  {
   "cell_type": "code",
   "execution_count": 330,
   "metadata": {},
   "outputs": [],
   "source": [
    "def generate_lines():\n",
    "    lines_horizontal=[]\n",
    "    for i in range(370,2452,148):\n",
    "        l=[]\n",
    "        l.append((350,i))\n",
    "        l.append((2440,i))\n",
    "        lines_horizontal.append(l)\n",
    "    \n",
    "    lines_vertical=[]\n",
    "    for i in range(357,2600,148):\n",
    "        l=[]\n",
    "        l.append((i,370))\n",
    "        l.append((i,2440))\n",
    "        lines_vertical.append(l)\n",
    "\n",
    "    return lines_horizontal,lines_vertical"
   ]
  },
  {
   "cell_type": "markdown",
   "metadata": {},
   "source": [
    "### find the coordinates of the new places piece"
   ]
  },
  {
   "cell_type": "code",
   "execution_count": 331,
   "metadata": {},
   "outputs": [],
   "source": [
    "def find_new_piece_position(thresh,lines_horizontal,lines_vertical):\n",
    "    max_i = 0\n",
    "    max_j = 0\n",
    "    max_medie = 0\n",
    "    for i in range(len(lines_horizontal)-1):\n",
    "        for j in range(len(lines_vertical)-1):\n",
    "            y_min = lines_vertical[j][0][0]\n",
    "            y_max = lines_vertical[j + 1][1][0]\n",
    "            x_min = lines_horizontal[i][0][1]\n",
    "            x_max = lines_horizontal[i + 1][1][1]\n",
    "            patch = thresh[x_min:x_max, y_min:y_max].copy()\n",
    "            Medie_patch=np.mean(patch)\n",
    "            if Medie_patch > max_medie:\n",
    "                max_i = i\n",
    "                max_j = j\n",
    "                max_medie = Medie_patch\n",
    "    return max_i,max_j"
   ]
  },
  {
   "cell_type": "markdown",
   "metadata": {},
   "source": [
    "### Extract the patch with the new piece and preprocess it for the template matching"
   ]
  },
  {
   "cell_type": "code",
   "execution_count": 332,
   "metadata": {},
   "outputs": [],
   "source": [
    "def extract_and_preprocess_patch(i,j,lines_horizontal,lines_vertical,careu_img):\n",
    "    patch = careu_img[lines_horizontal[i][0][1]:lines_horizontal[i+1][0][1],lines_vertical[j][0][0]:lines_vertical[j+1][0][0],:]\n",
    "\n",
    "    patch = patch[5:-5,5:-5,:]\n",
    "\n",
    "    patch_blur = cv.bilateralFilter(patch, 15, 75, 75)\n",
    "\n",
    "    patch_gray = cv.cvtColor(patch_blur,cv.COLOR_BGR2GRAY)\n",
    "\n",
    "\n",
    "    T, patch_threshOtsu = cv.threshold(patch_gray, 0, 255, cv.THRESH_BINARY_INV | cv.THRESH_OTSU)\n",
    "\n",
    "    kernel = cv.getStructuringElement(cv.MORPH_RECT, (3,3))\n",
    "\n",
    "    patch_open = cv.morphologyEx(patch_threshOtsu, cv.MORPH_OPEN, kernel)\n",
    "\n",
    "    return patch_open"
   ]
  },
  {
   "cell_type": "markdown",
   "metadata": {},
   "source": [
    "### Get the templates for each individual number"
   ]
  },
  {
   "cell_type": "code",
   "execution_count": 333,
   "metadata": {},
   "outputs": [],
   "source": [
    "def write_digits_template(img,lines_horizontal,lines_vertical):\n",
    "    index = 0\n",
    "    for i in range(0,len(lines_horizontal)-2,2):\n",
    "        for j in range(0,len(lines_vertical)-2,2):\n",
    "            patch = extract_and_preprocess_patch(i,j,lines_horizontal,lines_vertical,img)\n",
    "            medie_patch=np.mean(patch)\n",
    "            gray_img = cv.cvtColor(img,cv.COLOR_BGR2GRAY)\n",
    "            T, img_threshOtsu = cv.threshold(gray_img, 0, 255, cv.THRESH_BINARY_INV | cv.THRESH_OTSU)\n",
    "            medie_img = np.mean(img_threshOtsu)\n",
    "            cv.imwrite(str(TEMPLATES_PATH+str(index)+\".jpg\"),patch)\n",
    "            index += 1"
   ]
  },
  {
   "cell_type": "markdown",
   "metadata": {},
   "source": [
    "### Check the neighbors of the found piece in order to template match with only the possible ones"
   ]
  },
  {
   "cell_type": "code",
   "execution_count": 334,
   "metadata": {},
   "outputs": [],
   "source": [
    "def check_possible_operations(i,j,dir_i,dir_j,game_matrix,special_tile):\n",
    "    possible_digits = []\n",
    "    if i >= 0 and i < 14 and j >= 0 and j < 14 and  game_matrix[i,j] != -1:\n",
    "        if i + dir_i >= 0 and i + dir_i < 14 and j + dir_j >= 0 and j + dir_j < 14 and game_matrix[i + dir_i,j + dir_j] != -1:\n",
    "            \n",
    "            if special_tile == '+' or special_tile == None:\n",
    "                if game_matrix[i + dir_i,j + dir_j] + game_matrix[i,j] not in possible_digits:\n",
    "                    possible_digits.append(game_matrix[i + dir_i,j + dir_j] + game_matrix[i,j])\n",
    "\n",
    "            if special_tile == '-' or special_tile == None:\n",
    "                if abs(game_matrix[i + dir_i,j + dir_j] - game_matrix[i,j]) not in possible_digits:\n",
    "                    possible_digits.append(abs(game_matrix[i + dir_i,j + dir_j] - game_matrix[i,j]))\n",
    "\n",
    "            if special_tile == 'x' or special_tile == None:\n",
    "                if game_matrix[i + dir_i,j + dir_j] * game_matrix[i,j] not in possible_digits:\n",
    "                    possible_digits.append(game_matrix[i + dir_i,j + dir_j] * game_matrix[i,j])\n",
    "\n",
    "            if special_tile == '/' or special_tile == None:\n",
    "                if game_matrix[i,j] != 0 and game_matrix[i + dir_i,j + dir_j] % game_matrix[i,j] == 0:\n",
    "                    if game_matrix[i + dir_i,j + dir_j] // game_matrix[i,j] not in possible_digits:\n",
    "                        possible_digits.append(game_matrix[i + dir_i,j + dir_j] // game_matrix[i,j])\n",
    "\n",
    "                elif game_matrix[i + dir_i,j + dir_j] and game_matrix[i,j] % game_matrix[i + dir_i,j + dir_j] == 0:\n",
    "                    if game_matrix[i,j] // game_matrix[i + dir_i,j + dir_j] not in possible_digits:\n",
    "                        possible_digits.append(game_matrix[i,j] // game_matrix[i + dir_i,j + dir_j])\n",
    "    \n",
    "    return possible_digits"
   ]
  },
  {
   "cell_type": "markdown",
   "metadata": {},
   "source": [
    "### Check if the possible piece values are in the available pieces"
   ]
  },
  {
   "cell_type": "code",
   "execution_count": 335,
   "metadata": {},
   "outputs": [],
   "source": [
    "def get_possible_digits(i,j,game_matrix,available_digits):\n",
    "    possible_digits = []\n",
    "\n",
    "    special_tile = None\n",
    "\n",
    "    if (i,j) in SPECIAL_TILE_DICT['+']:\n",
    "        special_tile = '+'\n",
    "    elif (i,j) in SPECIAL_TILE_DICT['-']:\n",
    "        special_tile = '-'\n",
    "    elif (i,j) in SPECIAL_TILE_DICT['x']:\n",
    "        special_tile = 'x'\n",
    "    elif (i,j) in SPECIAL_TILE_DICT['/']:\n",
    "        special_tile = '/'\n",
    "\n",
    "    possible_digits.append(check_possible_operations(i-1,j,-1,0,game_matrix,special_tile))\n",
    "    possible_digits.append(check_possible_operations(i,j+1,0,1,game_matrix,special_tile))\n",
    "    possible_digits.append(check_possible_operations(i+1,j,1,0,game_matrix,special_tile))\n",
    "    possible_digits.append(check_possible_operations(i,j-1,0,-1,game_matrix,special_tile))\n",
    "\n",
    "\n",
    "    possible_digits = sum(possible_digits,[]) #flatten the array\n",
    "\n",
    "    for digit in possible_digits:\n",
    "        if digit in available_digits.keys():\n",
    "            if available_digits[digit] == 0:\n",
    "                possible_digits.remove(digit)\n",
    "        else:\n",
    "            possible_digits.remove(digit)\n",
    "\n",
    "\n",
    "    return possible_digits,available_digits"
   ]
  },
  {
   "cell_type": "markdown",
   "metadata": {},
   "source": [
    "### Perform template matching between the images from the templates folder and the new found piece"
   ]
  },
  {
   "cell_type": "code",
   "execution_count": 336,
   "metadata": {},
   "outputs": [],
   "source": [
    "def template_match(patch,possible_digits):\n",
    "    templates = os.listdir(TEMPLATES_PATH)\n",
    "    \n",
    "    best_min_val = 99999999\n",
    "    best_max_val = 0\n",
    "    digit = -1\n",
    "\n",
    "    top, bottom, left, right = 50, 50, 50, 50\n",
    "\n",
    "    patch = cv.copyMakeBorder(patch,top, bottom, left, right,borderType=cv.BORDER_CONSTANT,value=[0, 0, 0])\n",
    "\n",
    "    for template_name in templates:\n",
    "        if int(template_name[:-4]) in possible_digits:\n",
    "\n",
    "            template = cv.imread(TEMPLATES_PATH + template_name,cv.IMREAD_GRAYSCALE)\n",
    "\n",
    "            _, template = cv.threshold(template, 50, 255, cv.THRESH_BINARY)\n",
    "\n",
    "            possible_result = cv.matchTemplate(patch,template,cv.TM_SQDIFF)\n",
    "\n",
    "            min_val, max_val, _, _ = cv.minMaxLoc(possible_result)\n",
    "\n",
    "\n",
    "            if min_val < best_min_val:\n",
    "                best_min_val = min_val\n",
    "                digit = int(template_name[:-4])\n",
    "                \n",
    "    return digit       "
   ]
  },
  {
   "cell_type": "markdown",
   "metadata": {},
   "source": [
    "### Code for testing only 2 consecutive images"
   ]
  },
  {
   "cell_type": "code",
   "execution_count": 337,
   "metadata": {},
   "outputs": [],
   "source": [
    "# img_path =  \"C:/Programs/facultate/CAVA/CAVA-2024-Tema1/antrenare/1_19.jpg\"\n",
    "# # img_path =  \"C:/Programs/facultate/CAVA/CAVA-2024-Tema1/imagini_auxiliare/01.jpg\"\n",
    "# img1 = cv.imread(img_path)\n",
    "# img_path =  \"C:/Programs/facultate/CAVA/CAVA-2024-Tema1/antrenare/1_20.jpg\"\n",
    "# img2 = cv.imread(img_path)\n",
    "# # img1_r=cv.resize(img1,(0,0),fx=0.20,fy=0.20)\n",
    "# # img2_r=cv.resize(img2,(0,0),fx=0.20,fy=0.20)\n",
    "# img1_r=img1.copy()\n",
    "# img2_r=img2.copy()\n",
    "# crop_img1,careu_img1,crop_img2,careu_img2,result = get_boards_difference(img1_r,img2_r)\n",
    "\n",
    "# lines_horizontal,lines_vertical = generate_lines()\n",
    "\n",
    "# # write_digits_template(careu_img1,lines_horizontal,lines_vertical)\n",
    "\n",
    "# # for line in  lines_vertical : \n",
    "# #     cv.line(careu_img2, line[0], line[1], (0, 0, 255), 5)\n",
    "# # for line in  lines_horizontal : \n",
    "# #     cv.line(careu_img2, line[0], line[1], (0, 255, 0), 5)\n",
    "\n",
    "# # v.imshow(\"preproc_careu1\",preproc_careu1)\n",
    "# # show_img(careu_img2,\"careu_img2\")\n",
    "# # show_img(careu_img1,\"preproc_careu2\")\n",
    "# kernel = cv.getStructuringElement(cv.MORPH_RECT, (13,13))\n",
    "# result = cv.morphologyEx(result, cv.MORPH_OPEN, kernel)\n",
    "\n",
    "# i,j = find_new_piece_position(result,lines_horizontal,lines_vertical)\n",
    "# # print(i+1,end=\"\")\n",
    "# # print(chr(j+65))\n",
    "# show_img(result,\"result\")\n",
    "# show_img(careu_img2[lines_horizontal[i][0][1]:lines_horizontal[i+1][0][1],lines_vertical[j][0][0]:lines_vertical[j+1][0][0],:],\"patch\")\n",
    "# preproc_patch = extract_and_preprocess_patch(i,j,lines_horizontal,lines_vertical,careu_img2)\n",
    "# show_img(preproc_patch,\"preprocess_patch\")\n",
    "# game_matrix = BASE_MATRIX.copy()\n",
    "# available_digits = DIGIT_DICT.copy()\n",
    "# possible_digits, available_digits = get_possible_digits(i,j,game_matrix,available_digits)\n",
    "# digit = template_match(preproc_patch,possible_digits)\n",
    "# print(possible_digits)\n",
    "# # available_digits[digit] -= 1\n",
    "# game_matrix[i,j] = digit\n",
    "# available_digits\n",
    "# # # show_img(careu_img2,\"careu_img2\")\n",
    "# # # show_img(crop_img1,\"crop_img1\")\n",
    "# # cv.imwrite(\"careu.png\",careu_img2)\n",
    "# # # cv.imshow(\"careu_img1\",preproc_careu2)\n",
    "# # # cv.imshow(\"result\",result)\n",
    "# # # lines_vertical\n",
    "# # lines_horizontal"
   ]
  },
  {
   "cell_type": "code",
   "execution_count": 338,
   "metadata": {},
   "outputs": [],
   "source": [
    "def create_solutions_folder():\n",
    "    if not os.path.exists(SOLUTION_PATH):\n",
    "        os.makedirs(SOLUTION_PATH)"
   ]
  },
  {
   "cell_type": "code",
   "execution_count": 339,
   "metadata": {},
   "outputs": [],
   "source": [
    "def write_solution_files(img_name,i,j,digit):\n",
    "    file_name = img_name[:-4]\n",
    "\n",
    "    file = open(str(SOLUTION_PATH + file_name + \".txt\"),\"w\")\n",
    "\n",
    "    file.write(str(i+1)+chr(j+65)+\" \"+str(digit))"
   ]
  },
  {
   "cell_type": "markdown",
   "metadata": {},
   "source": [
    "### Return the turns of each player and order in which they begin"
   ]
  },
  {
   "cell_type": "code",
   "execution_count": 340,
   "metadata": {},
   "outputs": [],
   "source": [
    "def get_players_turs(run_path,turns_file):\n",
    "    path = Path(run_path + turns_file)\n",
    "\n",
    "    turns = []\n",
    "\n",
    "    with path.open(mode=\"r\", encoding=\"utf-8\") as md_file:\n",
    "        content = md_file.read()\n",
    "        turns = [line for line in content.splitlines()]\n",
    "\n",
    "    player = int(turns[0][6])\n",
    "\n",
    "        \n",
    "    for i in range(len(turns)):\n",
    "        turns[i] = turns[i][-2:].strip()\n",
    "\n",
    "    return turns, player"
   ]
  },
  {
   "cell_type": "markdown",
   "metadata": {},
   "source": [
    "### Calculate the multipliers applyed to the individual score if more than one ecuation results in the new placed piece or if it is placed on a X2 or X3 tile"
   ]
  },
  {
   "cell_type": "code",
   "execution_count": 341,
   "metadata": {},
   "outputs": [],
   "source": [
    "def get_score(digit,possible_digits,i,j):\n",
    "\n",
    "    multiplier = 1\n",
    "\n",
    "    if possible_digits.count(digit) > 1:\n",
    "        multiplier *= possible_digits.count(digit)\n",
    "\n",
    "    if (i,j) in SPECIAL_TILE_DICT['x2']:\n",
    "        multiplier *= 2\n",
    "    elif (i,j) in SPECIAL_TILE_DICT['x3']:\n",
    "        multiplier *= 3\n",
    "\n",
    "    return digit * multiplier"
   ]
  },
  {
   "cell_type": "code",
   "execution_count": 342,
   "metadata": {},
   "outputs": [],
   "source": [
    "def write_score(file,turns,scores,player):\n",
    "    filepath = Path(SOLUTION_PATH + file)\n",
    "    \n",
    "    with filepath.open(\"w\", encoding =\"utf-8\") as f:\n",
    "        for i in range(len(turns)):\n",
    "            line = \"Player\" + str(2 if player % 2 == 0 else 1) + \" \" + str(turns[i]) + \" \" + str(scores[i])\n",
    "            if i != len(turns) - 1:\n",
    "                line += '\\n'\n",
    "            f.write(line)\n",
    "            player += 1"
   ]
  },
  {
   "cell_type": "markdown",
   "metadata": {},
   "source": [
    "## MAIN CELL\n",
    "\n",
    "### Modify the path at the top of the notebook\n",
    "### Run all the cells before running the following in order to make the project work"
   ]
  },
  {
   "cell_type": "code",
   "execution_count": null,
   "metadata": {},
   "outputs": [],
   "source": [
    "previous_img = FIRST_BOARD\n",
    "\n",
    "# run_path = TRAINING_PATH\n",
    "run_path = TEST_PATH\n",
    "\n",
    "files=sorted(os.listdir(run_path))\n",
    "lines_horizontal, lines_vertical = generate_lines()\n",
    "\n",
    "game_matrix = BASE_MATRIX.copy()\n",
    "available_digits = DIGIT_DICT.copy()\n",
    "\n",
    "create_solutions_folder()\n",
    "\n",
    "game = 1\n",
    "\n",
    "turns, player = get_players_turs(run_path,str(game)+\"_turns.txt\")\n",
    "\n",
    "scores = []\n",
    "score = 0\n",
    "\n",
    "turn = 1\n",
    "scores_index = 1\n",
    "\n",
    "for file in files:\n",
    "    if file[-3:]=='jpg':\n",
    "        current_img = cv.imread(run_path + file)\n",
    "\n",
    "        if str(game) != file[0]:\n",
    "            game += 1\n",
    "\n",
    "            previous_img = FIRST_BOARD\n",
    "            game_matrix = BASE_MATRIX.copy()\n",
    "            available_digits = DIGIT_DICT.copy()\n",
    "\n",
    "            scores.append(score)\n",
    "\n",
    "            write_score(str(game - 1) + \"_scores.txt\",turns,scores,player)\n",
    "\n",
    "            turns, player = get_players_turs(run_path,str(game)+\"_turns.txt\")     \n",
    "\n",
    "            scores = []\n",
    "            scores_index = 1\n",
    "\n",
    "            score = 0\n",
    "            turn = 1\n",
    "\n",
    "        crop_img1,careu_img1,crop_img2,careu_img2,result = get_boards_difference(previous_img,current_img)\n",
    "\n",
    "        kernel = cv.getStructuringElement(cv.MORPH_ELLIPSE, (13,13))\n",
    "        result = cv.morphologyEx(result, cv.MORPH_OPEN, kernel)\n",
    "\n",
    "        i,j = find_new_piece_position(result,lines_horizontal,lines_vertical)\n",
    "\n",
    "        preproc_patch = extract_and_preprocess_patch(i,j,lines_horizontal,lines_vertical,careu_img2)\n",
    "\n",
    "        possible_digits, available_digits = get_possible_digits(i,j,game_matrix,available_digits)\n",
    "\n",
    "        digit = template_match(preproc_patch,possible_digits)\n",
    "        \n",
    "\n",
    "        if  scores_index < len(turns) and str(turn) == turns[scores_index]:\n",
    "            scores.append(score)\n",
    "            scores_index += 1\n",
    "            score = 0\n",
    "            \n",
    "\n",
    "        score += get_score(digit,possible_digits,i,j)\n",
    "\n",
    "        turn += 1\n",
    "\n",
    "        available_digits[digit] -= 1\n",
    "\n",
    "        game_matrix[i,j] = digit\n",
    "\n",
    "        print(file)\n",
    "        write_solution_files(file,i,j,digit)\n",
    "        previous_img = current_img\n",
    "        \n",
    "        \n",
    "scores.append(score)\n",
    "write_score(str(game) + \"_scores.txt\",turns,scores,player)\n",
    "print(\"Job's done!\")"
   ]
  }
 ],
 "metadata": {
  "kernelspec": {
   "display_name": "CAVA",
   "language": "python",
   "name": "python3"
  },
  "language_info": {
   "codemirror_mode": {
    "name": "ipython",
    "version": 3
   },
   "file_extension": ".py",
   "mimetype": "text/x-python",
   "name": "python",
   "nbconvert_exporter": "python",
   "pygments_lexer": "ipython3",
   "version": "3.12.6"
  }
 },
 "nbformat": 4,
 "nbformat_minor": 2
}
